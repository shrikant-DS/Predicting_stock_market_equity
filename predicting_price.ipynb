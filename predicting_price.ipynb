{
 "cells": [
  {
   "cell_type": "code",
   "execution_count": 32,
   "id": "7d638cf9",
   "metadata": {},
   "outputs": [],
   "source": [
    "import numpy as np\n",
    "import pandas as pd\n",
    "\n",
    "import seaborn as sns\n",
    "import matplotlib.pyplot as plt\n",
    "%matplotlib inline\n",
    "\n",
    "import warnings\n",
    "warnings.filterwarnings('ignore')"
   ]
  },
  {
   "cell_type": "code",
   "execution_count": 33,
   "id": "ada4a73d",
   "metadata": {},
   "outputs": [
    {
     "data": {
      "text/plain": [
       "(246, 14)"
      ]
     },
     "execution_count": 33,
     "metadata": {},
     "output_type": "execute_result"
    }
   ],
   "source": [
    "pd.read_csv(r'C:\\Users\\ACER\\Downloads\\Trent_10yrs\\Quote-Equity-TRENT-EQ-13-06-2015-to-13-06-2016.csv').shape"
   ]
  },
  {
   "cell_type": "code",
   "execution_count": 34,
   "id": "ca224521",
   "metadata": {},
   "outputs": [],
   "source": [
    "import glob "
   ]
  },
  {
   "cell_type": "code",
   "execution_count": 35,
   "id": "6effdef2",
   "metadata": {},
   "outputs": [],
   "source": [
    "df = pd.concat(map(pd.read_csv, glob.glob(r'C:\\Users\\ACER\\Downloads\\Trent_10yrs\\Quote-Equity-TRENT-EQ-*.csv')))"
   ]
  },
  {
   "cell_type": "code",
   "execution_count": 36,
   "id": "07238825",
   "metadata": {},
   "outputs": [
    {
     "data": {
      "text/plain": [
       "(2498, 14)"
      ]
     },
     "execution_count": 36,
     "metadata": {},
     "output_type": "execute_result"
    }
   ],
   "source": [
    "df.shape"
   ]
  },
  {
   "cell_type": "code",
   "execution_count": 37,
   "id": "7c0baee0",
   "metadata": {},
   "outputs": [
    {
     "data": {
      "text/html": [
       "<div>\n",
       "<style scoped>\n",
       "    .dataframe tbody tr th:only-of-type {\n",
       "        vertical-align: middle;\n",
       "    }\n",
       "\n",
       "    .dataframe tbody tr th {\n",
       "        vertical-align: top;\n",
       "    }\n",
       "\n",
       "    .dataframe thead th {\n",
       "        text-align: right;\n",
       "    }\n",
       "</style>\n",
       "<table border=\"1\" class=\"dataframe\">\n",
       "  <thead>\n",
       "    <tr style=\"text-align: right;\">\n",
       "      <th></th>\n",
       "      <th>Date</th>\n",
       "      <th>series</th>\n",
       "      <th>OPEN</th>\n",
       "      <th>HIGH</th>\n",
       "      <th>LOW</th>\n",
       "      <th>PREV. CLOSE</th>\n",
       "      <th>ltp</th>\n",
       "      <th>close</th>\n",
       "      <th>vwap</th>\n",
       "      <th>52W H</th>\n",
       "      <th>52W L</th>\n",
       "      <th>VOLUME</th>\n",
       "      <th>VALUE</th>\n",
       "      <th>No of trades</th>\n",
       "    </tr>\n",
       "  </thead>\n",
       "  <tbody>\n",
       "    <tr>\n",
       "      <th>0</th>\n",
       "      <td>13-Jun-2016</td>\n",
       "      <td>EQ</td>\n",
       "      <td>1,697.95</td>\n",
       "      <td>1,720.00</td>\n",
       "      <td>1,680.00</td>\n",
       "      <td>1,688.15</td>\n",
       "      <td>1,680.00</td>\n",
       "      <td>1,693.65</td>\n",
       "      <td>1,702.07</td>\n",
       "      <td>1,879.00</td>\n",
       "      <td>1,105.70</td>\n",
       "      <td>3,853</td>\n",
       "      <td>65,58,083.40</td>\n",
       "      <td>517</td>\n",
       "    </tr>\n",
       "    <tr>\n",
       "      <th>1</th>\n",
       "      <td>10-Jun-2016</td>\n",
       "      <td>EQ</td>\n",
       "      <td>1,700.50</td>\n",
       "      <td>1,710.00</td>\n",
       "      <td>1,680.00</td>\n",
       "      <td>1,697.40</td>\n",
       "      <td>1,687.00</td>\n",
       "      <td>1,688.15</td>\n",
       "      <td>1,701.44</td>\n",
       "      <td>1,879.00</td>\n",
       "      <td>1,105.70</td>\n",
       "      <td>2,052</td>\n",
       "      <td>34,91,360.15</td>\n",
       "      <td>418</td>\n",
       "    </tr>\n",
       "    <tr>\n",
       "      <th>2</th>\n",
       "      <td>09-Jun-2016</td>\n",
       "      <td>EQ</td>\n",
       "      <td>1,725.00</td>\n",
       "      <td>1,725.00</td>\n",
       "      <td>1,690.00</td>\n",
       "      <td>1,691.20</td>\n",
       "      <td>1,702.90</td>\n",
       "      <td>1,697.40</td>\n",
       "      <td>1,695.50</td>\n",
       "      <td>1,879.00</td>\n",
       "      <td>1,105.70</td>\n",
       "      <td>3,838</td>\n",
       "      <td>65,07,336.95</td>\n",
       "      <td>419</td>\n",
       "    </tr>\n",
       "    <tr>\n",
       "      <th>3</th>\n",
       "      <td>08-Jun-2016</td>\n",
       "      <td>EQ</td>\n",
       "      <td>1,725.00</td>\n",
       "      <td>1,725.00</td>\n",
       "      <td>1,685.40</td>\n",
       "      <td>1,704.50</td>\n",
       "      <td>1,690.00</td>\n",
       "      <td>1,691.20</td>\n",
       "      <td>1,697.02</td>\n",
       "      <td>1,879.00</td>\n",
       "      <td>1,105.70</td>\n",
       "      <td>659</td>\n",
       "      <td>11,18,335.05</td>\n",
       "      <td>227</td>\n",
       "    </tr>\n",
       "    <tr>\n",
       "      <th>4</th>\n",
       "      <td>07-Jun-2016</td>\n",
       "      <td>EQ</td>\n",
       "      <td>1,690.00</td>\n",
       "      <td>1,723.00</td>\n",
       "      <td>1,679.95</td>\n",
       "      <td>1,689.25</td>\n",
       "      <td>1,700.00</td>\n",
       "      <td>1,704.50</td>\n",
       "      <td>1,692.15</td>\n",
       "      <td>1,879.00</td>\n",
       "      <td>1,105.70</td>\n",
       "      <td>26,248</td>\n",
       "      <td>4,44,15,473.00</td>\n",
       "      <td>1,055</td>\n",
       "    </tr>\n",
       "  </tbody>\n",
       "</table>\n",
       "</div>"
      ],
      "text/plain": [
       "         Date  series      OPEN      HIGH       LOW  PREV. CLOSE       ltp   \\\n",
       "0  13-Jun-2016      EQ  1,697.95  1,720.00  1,680.00     1,688.15  1,680.00   \n",
       "1  10-Jun-2016      EQ  1,700.50  1,710.00  1,680.00     1,697.40  1,687.00   \n",
       "2  09-Jun-2016      EQ  1,725.00  1,725.00  1,690.00     1,691.20  1,702.90   \n",
       "3  08-Jun-2016      EQ  1,725.00  1,725.00  1,685.40     1,704.50  1,690.00   \n",
       "4  07-Jun-2016      EQ  1,690.00  1,723.00  1,679.95     1,689.25  1,700.00   \n",
       "\n",
       "     close      vwap     52W H     52W L  VOLUME           VALUE   \\\n",
       "0  1,693.65  1,702.07  1,879.00  1,105.70   3,853    65,58,083.40   \n",
       "1  1,688.15  1,701.44  1,879.00  1,105.70   2,052    34,91,360.15   \n",
       "2  1,697.40  1,695.50  1,879.00  1,105.70   3,838    65,07,336.95   \n",
       "3  1,691.20  1,697.02  1,879.00  1,105.70     659    11,18,335.05   \n",
       "4  1,704.50  1,692.15  1,879.00  1,105.70  26,248  4,44,15,473.00   \n",
       "\n",
       "  No of trades   \n",
       "0           517  \n",
       "1           418  \n",
       "2           419  \n",
       "3           227  \n",
       "4         1,055  "
      ]
     },
     "execution_count": 37,
     "metadata": {},
     "output_type": "execute_result"
    }
   ],
   "source": [
    "df.head()"
   ]
  },
  {
   "cell_type": "code",
   "execution_count": 38,
   "id": "64a154fd",
   "metadata": {},
   "outputs": [
    {
     "data": {
      "text/html": [
       "<div>\n",
       "<style scoped>\n",
       "    .dataframe tbody tr th:only-of-type {\n",
       "        vertical-align: middle;\n",
       "    }\n",
       "\n",
       "    .dataframe tbody tr th {\n",
       "        vertical-align: top;\n",
       "    }\n",
       "\n",
       "    .dataframe thead th {\n",
       "        text-align: right;\n",
       "    }\n",
       "</style>\n",
       "<table border=\"1\" class=\"dataframe\">\n",
       "  <thead>\n",
       "    <tr style=\"text-align: right;\">\n",
       "      <th></th>\n",
       "      <th>Date</th>\n",
       "      <th>series</th>\n",
       "      <th>OPEN</th>\n",
       "      <th>HIGH</th>\n",
       "      <th>LOW</th>\n",
       "      <th>PREV. CLOSE</th>\n",
       "      <th>ltp</th>\n",
       "      <th>close</th>\n",
       "      <th>vwap</th>\n",
       "      <th>52W H</th>\n",
       "      <th>52W L</th>\n",
       "      <th>VOLUME</th>\n",
       "      <th>VALUE</th>\n",
       "      <th>No of trades</th>\n",
       "    </tr>\n",
       "  </thead>\n",
       "  <tbody>\n",
       "    <tr>\n",
       "      <th>243</th>\n",
       "      <td>28-Jun-2024</td>\n",
       "      <td>EQ</td>\n",
       "      <td>5,360.00</td>\n",
       "      <td>5,509.00</td>\n",
       "      <td>5,358.55</td>\n",
       "      <td>5,329.00</td>\n",
       "      <td>5,475.00</td>\n",
       "      <td>5,479.85</td>\n",
       "      <td>5,454.88</td>\n",
       "      <td>5,509.00</td>\n",
       "      <td>1,657.45</td>\n",
       "      <td>9,70,080</td>\n",
       "      <td>5,29,16,70,384.80</td>\n",
       "      <td>92,533</td>\n",
       "    </tr>\n",
       "    <tr>\n",
       "      <th>244</th>\n",
       "      <td>27-Jun-2024</td>\n",
       "      <td>EQ</td>\n",
       "      <td>5,360.00</td>\n",
       "      <td>5,387.00</td>\n",
       "      <td>5,303.75</td>\n",
       "      <td>5,363.80</td>\n",
       "      <td>5,340.00</td>\n",
       "      <td>5,329.00</td>\n",
       "      <td>5,328.72</td>\n",
       "      <td>5,459.00</td>\n",
       "      <td>1,657.45</td>\n",
       "      <td>9,00,729</td>\n",
       "      <td>4,79,97,33,989.65</td>\n",
       "      <td>78,549</td>\n",
       "    </tr>\n",
       "    <tr>\n",
       "      <th>245</th>\n",
       "      <td>26-Jun-2024</td>\n",
       "      <td>EQ</td>\n",
       "      <td>5,345.00</td>\n",
       "      <td>5,395.00</td>\n",
       "      <td>5,260.00</td>\n",
       "      <td>5,338.80</td>\n",
       "      <td>5,352.80</td>\n",
       "      <td>5,363.80</td>\n",
       "      <td>5,353.66</td>\n",
       "      <td>5,459.00</td>\n",
       "      <td>1,657.45</td>\n",
       "      <td>5,78,724</td>\n",
       "      <td>3,09,82,94,358.25</td>\n",
       "      <td>71,844</td>\n",
       "    </tr>\n",
       "    <tr>\n",
       "      <th>246</th>\n",
       "      <td>25-Jun-2024</td>\n",
       "      <td>EQ</td>\n",
       "      <td>5,440.50</td>\n",
       "      <td>5,459.00</td>\n",
       "      <td>5,304.05</td>\n",
       "      <td>5,395.75</td>\n",
       "      <td>5,330.00</td>\n",
       "      <td>5,338.80</td>\n",
       "      <td>5,362.07</td>\n",
       "      <td>5,459.00</td>\n",
       "      <td>1,657.45</td>\n",
       "      <td>5,59,045</td>\n",
       "      <td>2,99,76,37,495.40</td>\n",
       "      <td>69,492</td>\n",
       "    </tr>\n",
       "    <tr>\n",
       "      <th>247</th>\n",
       "      <td>24-Jun-2024</td>\n",
       "      <td>EQ</td>\n",
       "      <td>5,266.35</td>\n",
       "      <td>5,440.00</td>\n",
       "      <td>5,200.00</td>\n",
       "      <td>5,266.35</td>\n",
       "      <td>5,434.15</td>\n",
       "      <td>5,395.75</td>\n",
       "      <td>5,338.77</td>\n",
       "      <td>5,452.00</td>\n",
       "      <td>1,657.45</td>\n",
       "      <td>5,43,826</td>\n",
       "      <td>2,90,33,61,753.40</td>\n",
       "      <td>57,740</td>\n",
       "    </tr>\n",
       "  </tbody>\n",
       "</table>\n",
       "</div>"
      ],
      "text/plain": [
       "           Date  series      OPEN      HIGH       LOW  PREV. CLOSE       ltp   \\\n",
       "243  28-Jun-2024      EQ  5,360.00  5,509.00  5,358.55     5,329.00  5,475.00   \n",
       "244  27-Jun-2024      EQ  5,360.00  5,387.00  5,303.75     5,363.80  5,340.00   \n",
       "245  26-Jun-2024      EQ  5,345.00  5,395.00  5,260.00     5,338.80  5,352.80   \n",
       "246  25-Jun-2024      EQ  5,440.50  5,459.00  5,304.05     5,395.75  5,330.00   \n",
       "247  24-Jun-2024      EQ  5,266.35  5,440.00  5,200.00     5,266.35  5,434.15   \n",
       "\n",
       "       close      vwap     52W H     52W L    VOLUME              VALUE   \\\n",
       "243  5,479.85  5,454.88  5,509.00  1,657.45  9,70,080  5,29,16,70,384.80   \n",
       "244  5,329.00  5,328.72  5,459.00  1,657.45  9,00,729  4,79,97,33,989.65   \n",
       "245  5,363.80  5,353.66  5,459.00  1,657.45  5,78,724  3,09,82,94,358.25   \n",
       "246  5,338.80  5,362.07  5,459.00  1,657.45  5,59,045  2,99,76,37,495.40   \n",
       "247  5,395.75  5,338.77  5,452.00  1,657.45  5,43,826  2,90,33,61,753.40   \n",
       "\n",
       "    No of trades   \n",
       "243        92,533  \n",
       "244        78,549  \n",
       "245        71,844  \n",
       "246        69,492  \n",
       "247        57,740  "
      ]
     },
     "execution_count": 38,
     "metadata": {},
     "output_type": "execute_result"
    }
   ],
   "source": [
    "df.tail()"
   ]
  },
  {
   "cell_type": "code",
   "execution_count": 39,
   "id": "21c5a6f0",
   "metadata": {},
   "outputs": [
    {
     "name": "stdout",
     "output_type": "stream",
     "text": [
      "<class 'pandas.core.frame.DataFrame'>\n",
      "Index: 2498 entries, 0 to 247\n",
      "Data columns (total 14 columns):\n",
      " #   Column         Non-Null Count  Dtype \n",
      "---  ------         --------------  ----- \n",
      " 0   Date           2498 non-null   object\n",
      " 1   series         2498 non-null   object\n",
      " 2   OPEN           2498 non-null   object\n",
      " 3   HIGH           2498 non-null   object\n",
      " 4   LOW            2498 non-null   object\n",
      " 5   PREV. CLOSE    2498 non-null   object\n",
      " 6   ltp            2498 non-null   object\n",
      " 7   close          2498 non-null   object\n",
      " 8   vwap           2498 non-null   object\n",
      " 9   52W H          2498 non-null   object\n",
      " 10  52W L          2498 non-null   object\n",
      " 11  VOLUME         2498 non-null   object\n",
      " 12  VALUE          2498 non-null   object\n",
      " 13  No of trades   2498 non-null   object\n",
      "dtypes: object(14)\n",
      "memory usage: 292.7+ KB\n"
     ]
    }
   ],
   "source": [
    "df.info()"
   ]
  },
  {
   "cell_type": "code",
   "execution_count": 40,
   "id": "925d82ac",
   "metadata": {},
   "outputs": [
    {
     "data": {
      "text/plain": [
       "Index(['Date ', 'series ', 'OPEN ', 'HIGH ', 'LOW ', 'PREV. CLOSE ', 'ltp ',\n",
       "       'close ', 'vwap ', '52W H ', '52W L ', 'VOLUME ', 'VALUE ',\n",
       "       'No of trades '],\n",
       "      dtype='object')"
      ]
     },
     "execution_count": 40,
     "metadata": {},
     "output_type": "execute_result"
    }
   ],
   "source": [
    "df.columns"
   ]
  },
  {
   "cell_type": "code",
   "execution_count": 41,
   "id": "6ec95578",
   "metadata": {},
   "outputs": [],
   "source": [
    "df.columns = df.columns.str.strip()"
   ]
  },
  {
   "cell_type": "code",
   "execution_count": 42,
   "id": "0c75d3fc",
   "metadata": {},
   "outputs": [
    {
     "data": {
      "text/plain": [
       "Index(['Date', 'series', 'OPEN', 'HIGH', 'LOW', 'PREV. CLOSE', 'ltp', 'close',\n",
       "       'vwap', '52W H', '52W L', 'VOLUME', 'VALUE', 'No of trades'],\n",
       "      dtype='object')"
      ]
     },
     "execution_count": 42,
     "metadata": {},
     "output_type": "execute_result"
    }
   ],
   "source": [
    "df.columns"
   ]
  },
  {
   "cell_type": "code",
   "execution_count": 43,
   "id": "c71253c1",
   "metadata": {},
   "outputs": [],
   "source": [
    "import datetime\n",
    "\n",
    "df['Date'] = pd.to_datetime(df['Date'], format='%d-%b-%Y')"
   ]
  },
  {
   "cell_type": "code",
   "execution_count": 44,
   "id": "20e7ce9d",
   "metadata": {},
   "outputs": [],
   "source": [
    "df.sort_values(by='Date', inplace=True)"
   ]
  },
  {
   "cell_type": "code",
   "execution_count": 45,
   "id": "4eb81eb7",
   "metadata": {},
   "outputs": [],
   "source": [
    "df.reset_index(drop=True, inplace=True)"
   ]
  },
  {
   "cell_type": "code",
   "execution_count": 46,
   "id": "be16123a",
   "metadata": {},
   "outputs": [
    {
     "data": {
      "text/html": [
       "<div>\n",
       "<style scoped>\n",
       "    .dataframe tbody tr th:only-of-type {\n",
       "        vertical-align: middle;\n",
       "    }\n",
       "\n",
       "    .dataframe tbody tr th {\n",
       "        vertical-align: top;\n",
       "    }\n",
       "\n",
       "    .dataframe thead th {\n",
       "        text-align: right;\n",
       "    }\n",
       "</style>\n",
       "<table border=\"1\" class=\"dataframe\">\n",
       "  <thead>\n",
       "    <tr style=\"text-align: right;\">\n",
       "      <th></th>\n",
       "      <th>Date</th>\n",
       "      <th>series</th>\n",
       "      <th>OPEN</th>\n",
       "      <th>HIGH</th>\n",
       "      <th>LOW</th>\n",
       "      <th>PREV. CLOSE</th>\n",
       "      <th>ltp</th>\n",
       "      <th>close</th>\n",
       "      <th>vwap</th>\n",
       "      <th>52W H</th>\n",
       "      <th>52W L</th>\n",
       "      <th>VOLUME</th>\n",
       "      <th>VALUE</th>\n",
       "      <th>No of trades</th>\n",
       "    </tr>\n",
       "  </thead>\n",
       "  <tbody>\n",
       "    <tr>\n",
       "      <th>0</th>\n",
       "      <td>2015-06-15</td>\n",
       "      <td>EQ</td>\n",
       "      <td>1,137.55</td>\n",
       "      <td>1,152.80</td>\n",
       "      <td>1,112.15</td>\n",
       "      <td>1,144.00</td>\n",
       "      <td>1,120.05</td>\n",
       "      <td>1,123.75</td>\n",
       "      <td>1,128.35</td>\n",
       "      <td>1,596.00</td>\n",
       "      <td>1,095.00</td>\n",
       "      <td>3,287</td>\n",
       "      <td>37,08,872.35</td>\n",
       "      <td>621</td>\n",
       "    </tr>\n",
       "    <tr>\n",
       "      <th>1</th>\n",
       "      <td>2015-06-16</td>\n",
       "      <td>EQ</td>\n",
       "      <td>1,134.95</td>\n",
       "      <td>1,135.95</td>\n",
       "      <td>1,105.70</td>\n",
       "      <td>1,123.75</td>\n",
       "      <td>1,117.00</td>\n",
       "      <td>1,118.80</td>\n",
       "      <td>1,118.12</td>\n",
       "      <td>1,596.00</td>\n",
       "      <td>1,095.00</td>\n",
       "      <td>1,908</td>\n",
       "      <td>21,33,380.10</td>\n",
       "      <td>235</td>\n",
       "    </tr>\n",
       "    <tr>\n",
       "      <th>2</th>\n",
       "      <td>2015-06-17</td>\n",
       "      <td>EQ</td>\n",
       "      <td>1,139.95</td>\n",
       "      <td>1,213.00</td>\n",
       "      <td>1,122.00</td>\n",
       "      <td>1,118.80</td>\n",
       "      <td>1,210.00</td>\n",
       "      <td>1,198.30</td>\n",
       "      <td>1,173.44</td>\n",
       "      <td>1,596.00</td>\n",
       "      <td>1,095.00</td>\n",
       "      <td>13,670</td>\n",
       "      <td>1,60,40,968.25</td>\n",
       "      <td>1,591</td>\n",
       "    </tr>\n",
       "    <tr>\n",
       "      <th>3</th>\n",
       "      <td>2015-06-18</td>\n",
       "      <td>EQ</td>\n",
       "      <td>1,185.00</td>\n",
       "      <td>1,217.95</td>\n",
       "      <td>1,180.25</td>\n",
       "      <td>1,198.30</td>\n",
       "      <td>1,188.00</td>\n",
       "      <td>1,191.45</td>\n",
       "      <td>1,193.12</td>\n",
       "      <td>1,596.00</td>\n",
       "      <td>1,095.00</td>\n",
       "      <td>3,813</td>\n",
       "      <td>45,49,377.30</td>\n",
       "      <td>465</td>\n",
       "    </tr>\n",
       "    <tr>\n",
       "      <th>4</th>\n",
       "      <td>2015-06-19</td>\n",
       "      <td>EQ</td>\n",
       "      <td>1,200.00</td>\n",
       "      <td>1,230.00</td>\n",
       "      <td>1,171.00</td>\n",
       "      <td>1,191.45</td>\n",
       "      <td>1,210.00</td>\n",
       "      <td>1,216.95</td>\n",
       "      <td>1,214.88</td>\n",
       "      <td>1,596.00</td>\n",
       "      <td>1,095.00</td>\n",
       "      <td>4,676</td>\n",
       "      <td>56,80,765.80</td>\n",
       "      <td>728</td>\n",
       "    </tr>\n",
       "  </tbody>\n",
       "</table>\n",
       "</div>"
      ],
      "text/plain": [
       "        Date series      OPEN      HIGH       LOW PREV. CLOSE       ltp  \\\n",
       "0 2015-06-15     EQ  1,137.55  1,152.80  1,112.15    1,144.00  1,120.05   \n",
       "1 2015-06-16     EQ  1,134.95  1,135.95  1,105.70    1,123.75  1,117.00   \n",
       "2 2015-06-17     EQ  1,139.95  1,213.00  1,122.00    1,118.80  1,210.00   \n",
       "3 2015-06-18     EQ  1,185.00  1,217.95  1,180.25    1,198.30  1,188.00   \n",
       "4 2015-06-19     EQ  1,200.00  1,230.00  1,171.00    1,191.45  1,210.00   \n",
       "\n",
       "      close      vwap     52W H     52W L  VOLUME           VALUE No of trades  \n",
       "0  1,123.75  1,128.35  1,596.00  1,095.00   3,287    37,08,872.35          621  \n",
       "1  1,118.80  1,118.12  1,596.00  1,095.00   1,908    21,33,380.10          235  \n",
       "2  1,198.30  1,173.44  1,596.00  1,095.00  13,670  1,60,40,968.25        1,591  \n",
       "3  1,191.45  1,193.12  1,596.00  1,095.00   3,813    45,49,377.30          465  \n",
       "4  1,216.95  1,214.88  1,596.00  1,095.00   4,676    56,80,765.80          728  "
      ]
     },
     "execution_count": 46,
     "metadata": {},
     "output_type": "execute_result"
    }
   ],
   "source": [
    "df.head()"
   ]
  },
  {
   "cell_type": "code",
   "execution_count": 47,
   "id": "2b363575",
   "metadata": {},
   "outputs": [
    {
     "data": {
      "text/plain": [
       "Date            0\n",
       "series          0\n",
       "OPEN            0\n",
       "HIGH            0\n",
       "LOW             0\n",
       "PREV. CLOSE     0\n",
       "ltp             0\n",
       "close           0\n",
       "vwap            0\n",
       "52W H           0\n",
       "52W L           0\n",
       "VOLUME          0\n",
       "VALUE           0\n",
       "No of trades    0\n",
       "dtype: int64"
      ]
     },
     "execution_count": 47,
     "metadata": {},
     "output_type": "execute_result"
    }
   ],
   "source": [
    "df.isnull().sum()"
   ]
  },
  {
   "cell_type": "code",
   "execution_count": 48,
   "id": "834684b4",
   "metadata": {},
   "outputs": [
    {
     "data": {
      "text/plain": [
       "Timedelta('3658 days 00:00:00')"
      ]
     },
     "execution_count": 48,
     "metadata": {},
     "output_type": "execute_result"
    }
   ],
   "source": [
    "df['Date'].iloc[-1] - df['Date'].iloc[0]"
   ]
  },
  {
   "cell_type": "code",
   "execution_count": null,
   "id": "4dd44ddc",
   "metadata": {},
   "outputs": [],
   "source": []
  },
  {
   "cell_type": "code",
   "execution_count": null,
   "id": "48e1e1bd",
   "metadata": {},
   "outputs": [],
   "source": []
  },
  {
   "cell_type": "code",
   "execution_count": null,
   "id": "005e303e",
   "metadata": {},
   "outputs": [],
   "source": []
  },
  {
   "cell_type": "code",
   "execution_count": null,
   "id": "dcc46c1d",
   "metadata": {},
   "outputs": [],
   "source": []
  },
  {
   "cell_type": "code",
   "execution_count": null,
   "id": "66718c23",
   "metadata": {},
   "outputs": [],
   "source": []
  },
  {
   "cell_type": "code",
   "execution_count": null,
   "id": "bb6fa6e7",
   "metadata": {},
   "outputs": [],
   "source": []
  },
  {
   "cell_type": "code",
   "execution_count": null,
   "id": "47f545e5",
   "metadata": {},
   "outputs": [],
   "source": []
  },
  {
   "cell_type": "code",
   "execution_count": null,
   "id": "8d014e67",
   "metadata": {},
   "outputs": [],
   "source": []
  },
  {
   "cell_type": "code",
   "execution_count": null,
   "id": "4bfebdf7",
   "metadata": {},
   "outputs": [],
   "source": []
  },
  {
   "cell_type": "code",
   "execution_count": null,
   "id": "a8f663aa",
   "metadata": {},
   "outputs": [],
   "source": []
  }
 ],
 "metadata": {
  "kernelspec": {
   "display_name": "base",
   "language": "python",
   "name": "python3"
  },
  "language_info": {
   "codemirror_mode": {
    "name": "ipython",
    "version": 3
   },
   "file_extension": ".py",
   "mimetype": "text/x-python",
   "name": "python",
   "nbconvert_exporter": "python",
   "pygments_lexer": "ipython3",
   "version": "3.11.7"
  }
 },
 "nbformat": 4,
 "nbformat_minor": 5
}
